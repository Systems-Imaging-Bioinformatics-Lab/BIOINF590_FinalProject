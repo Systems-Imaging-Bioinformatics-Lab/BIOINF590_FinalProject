{
 "cells": [
  {
   "cell_type": "code",
   "execution_count": 95,
   "metadata": {},
   "outputs": [],
   "source": [
    "from pathlib import Path\n",
    "import pandas as pd\n",
    "import re\n",
    "import matplotlib.pyplot as plt\n",
    "import seaborn as sns"
   ]
  },
  {
   "cell_type": "code",
   "execution_count": 27,
   "metadata": {},
   "outputs": [],
   "source": [
    "def parse_slide_stats(path):\n",
    "    entries = []\n",
    "    with open(path,\"r\") as f:\n",
    "        for line in f.readlines():\n",
    "            entry = {}\n",
    "            fields = line.split(\"\\t\")\n",
    "            entry[\"name\"] = re.findall(\"test_(.*)\\.\",fields[0])[0]\n",
    "            true_labels= re.findall(r\"\\[(\\d+\\.\\d+), (\\d+\\.\\d+), (\\d+\\.\\d+)]\",fields[1])[0]\n",
    "            true_labels = [float(x) for x in true_labels]\n",
    "            pos_label = max(range(len(true_labels)),key=lambda x: true_labels[x])\n",
    "            entry[\"pos_label\"] = pos_label \n",
    "            percent_select = [\n",
    "                float(re.findall(\"\\d+.\\d+\",fields[2])[0]),\n",
    "                float(fields[3]),\n",
    "                float(fields[4])\n",
    "            ]\n",
    "            av_prob = [\n",
    "                float(re.findall(\"\\d+.\\d+\",fields[5])[0]),\n",
    "                float(fields[6]),\n",
    "                float(fields[7])\n",
    "            ]\n",
    "            entry[\"percent_select\"] = percent_select[pos_label]\n",
    "            entry[\"av_prob\"] = av_prob[pos_label]\n",
    "            entry[\"ntiles\"] = float(re.findall(\"\\d+.\\d+\",fields[8])[0])\n",
    "            entries.append(entry)\n",
    "    return pd.DataFrame(entries).reset_index(drop=True)"
   ]
  },
  {
   "cell_type": "code",
   "execution_count": 28,
   "metadata": {},
   "outputs": [],
   "source": [
    "output_dir = Path(\"work/output/\")"
   ]
  },
  {
   "cell_type": "markdown",
   "metadata": {},
   "source": [
    "## Phase 2 Analyses"
   ]
  },
  {
   "cell_type": "code",
   "execution_count": 41,
   "metadata": {},
   "outputs": [],
   "source": [
    "phase2_exp = output_dir.glob(\"phase2_*/\")\n",
    "phase2_slide_results = pd.concat({\n",
    "    study.stem:parse_slide_stats(study / \"auc\" / \"out2_perSlideStats.txt\")\n",
    "    for study in phase2_exp\n",
    "},names=[\"study\"]).reset_index()"
   ]
  },
  {
   "cell_type": "code",
   "execution_count": 100,
   "metadata": {},
   "outputs": [
    {
     "data": {
      "text/plain": [
       "[Text(0, 0, 'phase2_gender_male'),\n",
       " Text(0, 0, 'phase2_race_black'),\n",
       " Text(0, 0, 'phase2_race_asian'),\n",
       " Text(0, 0, 'phase2_race_white'),\n",
       " Text(0, 0, 'phase2_gender_female')]"
      ]
     },
     "execution_count": 100,
     "metadata": {},
     "output_type": "execute_result"
    },
    {
     "data": {
      "image/png": "[encoded data removed]",
      "text/plain": [
       "<Figure size 432x288 with 1 Axes>"
      ]
     },
     "metadata": {
      "needs_background": "light"
     },
     "output_type": "display_data"
    }
   ],
   "source": [
    "chart = sns.boxplot(x=phase2_slide_results[\"study\"],y=phase2_slide_results[\"av_prob\"])\n",
    "chart.set_title(\"Phase 2 Study Comparisons\")\n",
    "chart.set_xlabel(\"Study\")\n",
    "chart.set_ylabel(\"Average Positive Probability\")\n",
    "chart.set_xticklabels(chart.get_xticklabels(), rotation=90, horizontalalignment='right')\n"
   ]
  },
  {
   "cell_type": "code",
   "execution_count": null,
   "metadata": {},
   "outputs": [],
   "source": []
  }
 ],
 "metadata": {
  "kernelspec": {
   "display_name": "Python 3",
   "language": "python",
   "name": "python3"
  },
  "language_info": {
   "codemirror_mode": {
    "name": "ipython",
    "version": 3
   },
   "file_extension": ".py",
   "mimetype": "text/x-python",
   "name": "python",
   "nbconvert_exporter": "python",
   "pygments_lexer": "ipython3",
   "version": "3.6.9"
  }
 },
 "nbformat": 4,
 "nbformat_minor": 4
}
